{
  "cells": [
    {
      "cell_type": "markdown",
      "id": "1ae4bd1d",
      "metadata": {
        "id": "1ae4bd1d"
      },
      "source": [
        "\n",
        "# Assignment 3: Gradebook & Log Analyzer\n",
        "\n",
        "**Covers:** Conditionals & Loops • File I/O • Dictionaries, Tuples & Methods  \n",
        "**Estimated time:** ~2–3 hours\n",
        "\n",
        "## Learning outcomes\n",
        "By completing this assignment, you will be able to:\n",
        "1. Use conditionals and loops to implement program logic.\n",
        "2. Read from and write to text/CSV files safely.\n",
        "3. Model data with dictionaries and tuples; use built-in methods effectively.\n",
        "4. Build a small, menu-driven CLI program that ties everything together.\n"
      ]
    },
    {
      "cell_type": "markdown",
      "id": "a2c9c4a5",
      "metadata": {
        "id": "a2c9c4a5"
      },
      "source": [
        "\n",
        "## Instructions\n",
        "- Work in this notebook. Replace each `# TODO` with your code.\n",
        "- Do **not** change the function names or signatures unless asked.\n",
        "- Run the provided tests (asserts) to self-check. Passing tests ≠ perfect score.\n",
        "- When you finish, **restart & run all** to ensure it executes cleanly top-to-bottom.\n",
        "- Submit the exported `.ipynb` (and any generated `.txt`/`.csv` files)."
      ]
    },
    {
      "cell_type": "code",
      "execution_count": null,
      "id": "59196202",
      "metadata": {
        "id": "59196202"
      },
      "outputs": [],
      "source": [
        "\n",
        "# --- Setup: create tiny sample datasets (run once) ---\n",
        "from pathlib import Path\n",
        "import csv\n",
        "\n",
        "data_dir = Path(\"data\")\n",
        "data_dir.mkdir(exist_ok=True)\n",
        "\n",
        "# Sample scores.csv: student_id,name,quiz1,quiz2,quiz3\n",
        "scores_path = data_dir / \"scores.csv\"\n",
        "if not scores_path.exists():\n",
        "    with scores_path.open(\"w\", newline=\"\") as f:\n",
        "        writer = csv.writer(f)\n",
        "        writer.writerow([\"student_id\", \"name\", \"quiz1\", \"quiz2\", \"quiz3\"])\n",
        "        writer.writerows([\n",
        "            [\"S001\", \"Aye\", 8, 9, 10],\n",
        "            [\"S002\", \"Khin\", 7, 6, 9],\n",
        "            [\"S003\", \"Ryan\", 10, 10, 9],\n",
        "            [\"S004\", \"Hugo\", 5, 7, 6],\n",
        "            [\"S005\", \"Thiri\", 9, 8, 8],\n",
        "        ])\n",
        "\n",
        "# Sample access.log: username,action,timestamp (ISO-like, simplified)\n",
        "log_path = data_dir / \"access.log\"\n",
        "if not log_path.exists():\n",
        "    log_path.write_text(\n",
        "        \"aye,login,2025-08-01T09:00\\n\"\n",
        "        \"aye,submit,2025-08-01T09:10\\n\"\n",
        "        \"khin,login,2025-08-01T09:05\\n\"\n",
        "        \"ryan,login,2025-08-01T09:07\\n\"\n",
        "        \"ryan,download,2025-08-01T09:20\\n\"\n",
        "        \"ryan,submit,2025-08-01T09:35\\n\"\n",
        "        \"hugo,login,2025-08-01T09:40\\n\"\n",
        "        \"thiri,login,2025-08-01T09:41\\n\"\n",
        "        \"aye,download,2025-08-01T09:50\\n\"\n",
        "    )\n",
        "print(\"Sample data ready at:\", data_dir.resolve())\n"
      ]
    },
    {
      "cell_type": "markdown",
      "id": "7ca99e22",
      "metadata": {
        "id": "7ca99e22"
      },
      "source": [
        "\n",
        "---\n",
        "## Part A — Warm‑ups (Conditionals, Loops, Tuples)\n",
        "\n",
        "### A1. `letter_grade(avg)`\n",
        "Write a function that converts a numeric average (0–10) to a letter grade:\n",
        "- `>= 9.0` → **A**\n",
        "- `>= 8.0` → **B**\n",
        "- `>= 7.0` → **C**\n",
        "- `>= 6.0` → **D**\n",
        "- else → **F**\n",
        "\n",
        "Edge cases: floor to one decimal place before comparing (e.g., `8.96 → 8.9`).\n",
        "\n",
        "### A2. `count_vowels(s)`\n",
        "Return a dictionary mapping vowel → count for the string `s`. Treat `'aeiou'` as vowels and ignore case.\n",
        "\n",
        "### A3. `rotate_tuple(t)`\n",
        "Given a non-empty tuple `t`, return a **new** tuple where the last element moves to the front. Example: `(1,2,3) → (3,1,2)`.\n"
      ]
    },
    {
      "cell_type": "code",
      "execution_count": null,
      "id": "4cfb1cd1",
      "metadata": {
        "id": "4cfb1cd1"
      },
      "outputs": [],
      "source": [
        "\n",
        "# TODO: A1\n",
        "def letter_grade(avg: float) -> str:\n",
        "    if avg >= 9.0:\n",
        "        return \"A\"\n",
        "    elif avg >= 8.0:\n",
        "        return \"B\"\n",
        "    elif avg >= 7.0:\n",
        "        return \"C\"\n",
        "    elif avg >= 6.0:\n",
        "        return \"D\"\n",
        "    else:\n",
        "      return \"F\"\n",
        "\n"
      ]
    },
    {
      "cell_type": "code",
      "execution_count": 91,
      "id": "37ab606d",
      "metadata": {
        "id": "37ab606d"
      },
      "outputs": [],
      "source": [
        "\n",
        "# TODO: A2\n",
        "def count_vowels(s: str) -> dict:\n",
        "    d = {}\n",
        "    a_count = 0\n",
        "    e_count = 0\n",
        "    i_count = 0\n",
        "    o_count = 0\n",
        "    u_count = 0\n",
        "    for c in s:\n",
        "        if c==\"A\"or C==\"a\":\n",
        "            a_count+=1\n",
        "            d['a'] = a_count\n",
        "        if c==\"E\"or C==\"e\":\n",
        "           e_count+=1\n",
        "           d['e'] = e_count\n",
        "        if c==\"I\"or C==\"i\":\n",
        "            i_count+=1\n",
        "            d['i'] = i_count\n",
        "        if c==\"O\"or C==\"o\":\n",
        "           o_count+=1\n",
        "           d['o'] = o_count\n",
        "        if c==\"U\"or C==\"u\":\n",
        "           u_count+=1\n",
        "           d['u'] = u_count\n",
        "    return d\n"
      ]
    },
    {
      "cell_type": "code",
      "execution_count": 1,
      "id": "19d06e13",
      "metadata": {
        "id": "19d06e13"
      },
      "outputs": [],
      "source": [
        "\n",
        "def rotate_tuple(t: tuple) -> tuple:\n",
        "    result = []\n",
        "    result.append(t[len(t) - 1])\n",
        "    for i in range(len(t) - 1):\n",
        "        result.append(t[i])\n",
        "    return tuple(result)"
      ]
    },
    {
      "cell_type": "code",
      "execution_count": null,
      "id": "a63d5ba8",
      "metadata": {
        "id": "a63d5ba8"
      },
      "outputs": [],
      "source": [
        "\n",
        "# --- Tests for Part A ---\n",
        "assert letter_grade(9.0) == \"A\"\n",
        "assert letter_grade(6.0) == \"D\"\n",
        "assert letter_grade(5.0) == \"F\"\n",
        "\n",
        "assert count_vowels(\"Aye\") == {'a': 1, 'e': 1}\n",
        "assert count_vowels(\"Beautiful day\") == {'a': 2, 'e': 1, 'i': 1, 'o': 0, 'u': 2} or        sum(count_vowels(\"Beautiful day\").values()) == 6  # lenient check\n",
        "\n",
        "assert rotate_tuple((1,2,3)) == (3,1,2)\n",
        "assert rotate_tuple((\"a\",)) == (\"a\",)\n",
        "print(\"Part A tests passed (if no AssertionError).\")\n"
      ]
    },
    {
      "cell_type": "markdown",
      "id": "b0e53b63",
      "metadata": {
        "id": "b0e53b63"
      },
      "source": [
        "\n",
        "---\n",
        "## Part B — Gradebook (Files, Dicts, Methods)\n",
        "\n",
        "You are given `data/scores.csv` with columns: `student_id,name,quiz1,quiz2,quiz3`.\n",
        "\n",
        "### B1. `read_scores_csv(path)`\n",
        "Read the CSV and return a list of dictionaries, one per student. Convert quiz scores to `int`.\n",
        "\n",
        "### B2. `compute_averages(records)`\n",
        "Given the list from B1, return a **new** list where each dict has added keys:\n",
        "- `\"avg\"`: average of quizzes (float)\n",
        "- `\"grade\"`: result of `letter_grade(avg)`\n",
        "\n",
        "### B3. `write_report(records, out_path=\"report.txt\")`\n",
        "Write a simple text report with one line per student:\n",
        "`S001 Aye -> avg=9.0 grade=A`\n",
        "\n",
        "**Note:** Use `with open(...)` to handle files safely.\n"
      ]
    },
    {
      "cell_type": "code",
      "execution_count": 4,
      "id": "cd186af4",
      "metadata": {
        "id": "cd186af4"
      },
      "outputs": [],
      "source": [
        "\n",
        "import csv\n",
        "\n",
        "def read_scores_csv(path: str) -> list[dict]:\n",
        "    records = []\n",
        "    with open(path, newline='') as f:\n",
        "        reader = csv.DictReader(f)\n",
        "        for row in reader:\n",
        "            # แปลงค่าคะแนน quiz1, quiz2, quiz3 เป็น int\n",
        "            row['quiz1'] = int(row['quiz1'])\n",
        "            row['quiz2'] = int(row['quiz2'])\n",
        "            row['quiz3'] = int(row['quiz3'])\n",
        "            records.append(row)\n",
        "    return records\n"
      ]
    },
    {
      "cell_type": "code",
      "execution_count": 3,
      "id": "5da7322f",
      "metadata": {
        "id": "5da7322f"
      },
      "outputs": [],
      "source": [
        "def compute_averages(records: list[dict]) -> list[dict]:\n",
        "    result = []\n",
        "    for r in records:\n",
        "        avg = (r['quiz1'] + r['quiz2'] + r['quiz3']) / 3\n",
        "        r['avg'] = round(avg, 1)  # ปัดทศนิยม 1 ตำแหน่ง\n",
        "        r['grade'] = letter_grade(avg)\n",
        "        result.append(r)\n",
        "    return result\n"
      ]
    },
    {
      "cell_type": "code",
      "execution_count": 2,
      "id": "2b9017e0",
      "metadata": {
        "id": "2b9017e0"
      },
      "outputs": [],
      "source": [
        "from pathlib import Path\n",
        "\n",
        "def write_report(records: list[dict], out_path: str = \"report.txt\") -> None:\n",
        "    with open(out_path, \"w\") as f:\n",
        "        for r in records:\n",
        "            line = f\"{r['student_id']} {r['name']} -> avg={r['avg']} grade={r['grade']}\\n\"\n",
        "            f.write(line)\n"
      ]
    },
    {
      "cell_type": "code",
      "execution_count": null,
      "id": "3e6b0d46",
      "metadata": {
        "id": "3e6b0d46"
      },
      "outputs": [],
      "source": [
        "\n",
        "# --- Tests for Part B ---\n",
        "recs = read_scores_csv(\"data/scores.csv\")\n",
        "assert isinstance(recs, list) and len(recs) >= 5\n",
        "assert all(isinstance(r, dict) for r in recs)\n",
        "assert set(recs[0].keys()) >= {\"student_id\",\"name\",\"quiz1\",\"quiz2\",\"quiz3\"}\n",
        "assert all(isinstance(r[\"quiz1\"], int) for r in recs)\n",
        "\n",
        "recs2 = compute_averages(recs)\n",
        "assert \"avg\" in recs2[0] and \"grade\" in recs2[0]\n",
        "\n",
        "out_file = \"report.txt\"\n",
        "write_report(recs2, out_file)\n",
        "p = Path(out_file)\n",
        "assert p.exists() and p.stat().st_size > 0\n",
        "print(\"Part B tests passed (if no AssertionError).\")\n"
      ]
    },
    {
      "cell_type": "markdown",
      "id": "d12324c7",
      "metadata": {
        "id": "d12324c7"
      },
      "source": [
        "\n",
        "---\n",
        "## Part C — Simple Log Analysis (Files, Dicts)\n",
        "\n",
        "You are given `data/access.log` with lines: `username,action,timestamp`.\n",
        "\n",
        "### C1. `parse_log(path)`\n",
        "Return a list of tuples `(username, action, timestamp_str)`.\n",
        "\n",
        "### C2. `action_counts(parsed)`\n",
        "Return a dict `{action: count}` across all lines.\n",
        "\n",
        "### C3. `most_active_user(parsed)`\n",
        "Return a tuple `(username, count)` for the user with the most actions. Break ties by lexicographic username (smallest first).\n"
      ]
    },
    {
      "cell_type": "code",
      "execution_count": null,
      "id": "54497687",
      "metadata": {
        "id": "54497687"
      },
      "outputs": [],
      "source": [
        "def parse_log(path: str) -> list[tuple]:\n",
        "    result = []\n",
        "    with open(path) as f:\n",
        "        for line in f:\n",
        "            line = line.strip()\n",
        "            if line:\n",
        "                parts = line.split(',')\n",
        "                if len(parts) == 3:\n",
        "                    username, action, timestamp = parts\n",
        "                    result.append((username.strip(), action.strip(), timestamp.strip()))\n",
        "    return result\n",
        "\n"
      ]
    },
    {
      "cell_type": "code",
      "execution_count": null,
      "id": "4aa5704e",
      "metadata": {
        "id": "4aa5704e"
      },
      "outputs": [],
      "source": [
        "def action_counts(parsed: list[tuple]) -> dict:\n",
        "    counts = {}\n",
        "    for _, action, _ in parsed:\n",
        "        counts[action] = counts.get(action, 0) + 1\n",
        "    return counts\n",
        "\n"
      ]
    },
    {
      "cell_type": "code",
      "execution_count": null,
      "id": "172c4a39",
      "metadata": {
        "id": "172c4a39"
      },
      "outputs": [],
      "source": [
        "def most_active_user(parsed: list[tuple]) -> tuple[str, int]:\n",
        "    user_counts = {}\n",
        "    for username, _, _ in parsed:\n",
        "        user_counts[username] = user_counts.get(username, 0) + 1\n",
        "\n",
        "    # หา user ที่มี count สูงสุด (กรณีเท่ากัน เลือกตามตัวอักษร)\n",
        "    return min(user_counts.items(), key=lambda x: (-x[1], x[0]))\n"
      ]
    },
    {
      "cell_type": "code",
      "execution_count": null,
      "id": "f0c35b8c",
      "metadata": {
        "id": "f0c35b8c"
      },
      "outputs": [],
      "source": [
        "\n",
        "# --- Tests for Part C ---\n",
        "parsed = parse_log(\"data/access.log\")\n",
        "assert isinstance(parsed, list) and len(parsed) >= 5\n",
        "assert all(isinstance(t, tuple) and len(t) == 3 for t in parsed)\n",
        "\n",
        "counts = action_counts(parsed)\n",
        "assert isinstance(counts, dict) and sum(counts.values()) == len(parsed)\n",
        "\n",
        "user, cnt = most_active_user(parsed)\n",
        "assert isinstance(user, str) and isinstance(cnt, int) and cnt >= 1\n",
        "print(\"Part C tests passed (if no AssertionError).\")\n"
      ]
    },
    {
      "cell_type": "markdown",
      "id": "51d3021a",
      "metadata": {
        "id": "51d3021a"
      },
      "source": [
        "\n",
        "---\n",
        "## Part D — Menu‑Driven CLI (Loops, Conditionals, Methods)\n",
        "\n",
        "Write a loop that repeatedly shows this menu until the user chooses Quit:\n",
        "\n",
        "```\n",
        "1) Show top student(s) by average\n",
        "2) Show action counts from access.log\n",
        "3) Export a CSV of student_id,name,avg,grade to data/gradebook_out.csv\n",
        "4) Quit\n",
        "```\n",
        "\n",
        "Implement as `main()` that returns `None`. For (1), if multiple students tie for top average, print them all.\n"
      ]
    },
    {
      "cell_type": "code",
      "execution_count": null,
      "id": "de25a7e6",
      "metadata": {
        "id": "de25a7e6"
      },
      "outputs": [],
      "source": [
        "import csv\n",
        "\n",
        "def main() -> None:\n",
        "    # เตรียมข้อมูล student records\n",
        "    student_records = compute_averages(read_scores_csv(\"data/scores.csv\"))\n",
        "\n",
        "    while True:\n",
        "        print(\"\\n1) Show top student(s) by average\")\n",
        "        print(\"2) Show action counts from access.log\")\n",
        "        print(\"3) Export a CSV of student_id,name,avg,grade to data/gradebook_out.csv\")\n",
        "        print(\"4) Quit\")\n",
        "\n",
        "        choice = input(\"Enter your choice (1-4): \").strip()\n",
        "\n",
        "        if choice == \"1\":\n",
        "            if not student_records:\n",
        "                print(\"No student data available.\")\n",
        "                continue\n",
        "            max_avg = max(r[\"avg\"] for r in student_records)\n",
        "            top_students = [r for r in student_records if r[\"avg\"] == max_avg]\n",
        "            for r in top_students:\n",
        "                print(f\"{r['student_id']} {r['name']} -> avg={r['avg']} grade={r['grade']}\")\n",
        "\n",
        "        elif choice == \"2\":\n",
        "            parsed = parse_log(\"data/access.log\")\n",
        "            counts = action_counts(parsed)\n",
        "            for action, count in counts.items():\n",
        "                print(f\"{action}: {count}\")\n",
        "\n",
        "        elif choice == \"3\":\n",
        "            out_path = \"data/gradebook_out.csv\"\n",
        "            with open(out_path, \"w\", newline='') as f:\n",
        "                writer = csv.writer(f)\n",
        "                writer.writerow([\"student_id\", \"name\", \"avg\", \"grade\"])\n",
        "                for r in student_records:\n",
        "                    writer.writerow([r[\"student_id\"], r[\"name\"], r[\"avg\"], r[\"grade\"]])\n",
        "            print(f\"Exported to {out_path}\")\n",
        "\n",
        "        elif choice == \"4\":\n",
        "            print(\"Goodbye!\")\n",
        "            break\n",
        "\n",
        "        else:\n",
        "            print(\"Invalid choice. Please enter 1–4.\")\n",
        "\n"
      ]
    },
    {
      "cell_type": "markdown",
      "id": "9d5de2a7",
      "metadata": {
        "id": "9d5de2a7"
      },
      "source": [
        "\n",
        "---\n",
        "## Submission checklist\n",
        "- [ ] All TODOs completed\n",
        "- [ ] Notebook runs top-to-bottom without errors\n",
        "- [ ] `report.txt` generated\n",
        "- [ ] (Optional) `data/gradebook_out.csv` generated via menu option 3"
      ]
    }
  ],
  "metadata": {
    "colab": {
      "provenance": []
    },
    "kernelspec": {
      "display_name": "Python 3",
      "language": "python",
      "name": "python3"
    },
    "language_info": {
      "codemirror_mode": {
        "name": "ipython",
        "version": 3
      },
      "file_extension": ".py",
      "mimetype": "text/x-python",
      "name": "python",
      "nbconvert_exporter": "python",
      "pygments_lexer": "ipython3",
      "version": "3.13.7"
    }
  },
  "nbformat": 4,
  "nbformat_minor": 5
}
